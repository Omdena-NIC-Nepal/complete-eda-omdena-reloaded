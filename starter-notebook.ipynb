{
 "cells": [
  {
   "attachments": {},
   "cell_type": "markdown",
   "metadata": {},
   "source": [
    "# Climate Data Exploratory Data Analysis\n",
    "\n",
    "## Introduction\n",
    "This notebook contains an exploratory data analysis of climate data from 1900 to 2023. The dataset includes global temperatures, CO2 concentration, sea level rise, and Arctic ice area.\n",
    "\n",
    "Your task is to perform a comprehensive EDA following the requirements in the README.md file."
   ]
  },
  {
   "cell_type": "code",
   "execution_count": null,
   "metadata": {},
   "outputs": [],
   "source": [
    "# Import required libraries\n",
    "import pandas as pd\n",
    "import numpy as np\n",
    "import matplotlib.pyplot as plt\n",
    "import seaborn as sns\n",
    "\n",
    "# Set plot styling\n",
    "plt.style.use('seaborn-whitegrid')\n",
    "sns.set_palette('viridis')\n",
    "%matplotlib inline"
   ]
  },
  {
   "attachments": {},
   "cell_type": "markdown",
   "metadata": {},
   "source": [
    "## 1. Data Preparation\n",
    "\n",
    "Load the climate data and perform necessary cleaning and aggregation."
   ]
  },
  {
   "cell_type": "code",
   "execution_count": null,
   "metadata": {},
   "outputs": [],
   "source": [
    "# Load the dataset\n",
    "#df = pd.read_csv('climate_data.csv') # Place the correct path to the file you are reading here (Make sure to load using the relative path)\n",
    "\n",
    "# Display the first few rows of the dataset\n",
    "#df.head()\n",
    "df = pd.read_csv('data/Climate_Change_Indicators.csv')\n",
    "print(df.head())"
   ]
  },
  {
   "cell_type": "code",
   "execution_count": null,
   "metadata": {},
   "outputs": [],
   "source": [
    "# Check for missing values and basic information about the dataset\n",
    "print(\"Dataset Information:\")\n",
    "print(df.info())\n",
    "print(\"\\nMissing Values:\")\n",
    "print(df.isnull().sum())\n"
   ]
  },
  {
   "cell_type": "code",
   "execution_count": 19,
   "metadata": {},
   "outputs": [
    {
     "ename": "NameError",
     "evalue": "name 'pd' is not defined",
     "output_type": "error",
     "traceback": [
      "\u001b[1;31m---------------------------------------------------------------------------\u001b[0m",
      "\u001b[1;31mNameError\u001b[0m                                 Traceback (most recent call last)",
      "Cell \u001b[1;32mIn[19], line 4\u001b[0m\n\u001b[0;32m      1\u001b[0m \u001b[39m# TODO: Aggregate data by year to create a 124-year time series\u001b[39;00m\n\u001b[0;32m      2\u001b[0m \u001b[39m# Your code here\u001b[39;00m\n\u001b[1;32m----> 4\u001b[0m df[\u001b[39m'\u001b[39m\u001b[39mdate\u001b[39m\u001b[39m'\u001b[39m] \u001b[39m=\u001b[39m pd\u001b[39m.\u001b[39mto_datetime(df[\u001b[39m'\u001b[39m\u001b[39mdate\u001b[39m\u001b[39m'\u001b[39m], errors\u001b[39m=\u001b[39m\u001b[39m'\u001b[39m\u001b[39mcoerce\u001b[39m\u001b[39m'\u001b[39m)  \n\u001b[0;32m      5\u001b[0m df[\u001b[39m'\u001b[39m\u001b[39myear\u001b[39m\u001b[39m'\u001b[39m] \u001b[39m=\u001b[39m df[\u001b[39m'\u001b[39m\u001b[39mdate\u001b[39m\u001b[39m'\u001b[39m]\u001b[39m.\u001b[39mdt\u001b[39m.\u001b[39myear\n\u001b[0;32m      6\u001b[0m aggregated_data \u001b[39m=\u001b[39m df\u001b[39m.\u001b[39mgroupby(\u001b[39m'\u001b[39m\u001b[39myear\u001b[39m\u001b[39m'\u001b[39m)\u001b[39m.\u001b[39magg(\u001b[39m'\u001b[39m\u001b[39msum\u001b[39m\u001b[39m'\u001b[39m)  \n",
      "\u001b[1;31mNameError\u001b[0m: name 'pd' is not defined"
     ]
    }
   ],
   "source": [
    "# TODO: Aggregate data by year to create a 124-year time series\n",
    "# Your code here\n",
    "\n",
    "df['date'] = pd.to_datetime(df['date'], errors='coerce')  \n",
    "df['year'] = df['date'].dt.year\n",
    "aggregated_data = df.groupby('year').agg('sum')  \n",
    "aggregated_data = aggregated_data[aggregated_data.index >= 1900]\n",
    "aggregated_data = aggregated_data[aggregated_data.index <= 2023]\n",
    "\n",
    "time_series = aggregated_data.reindex(range(1900, 2024), fill_value=None) \n",
    "print(\"\\nAggregated Time Series:\")\n",
    "print(time_series)"
   ]
  },
  {
   "attachments": {},
   "cell_type": "markdown",
   "metadata": {},
   "source": [
    "## 2. Univariate Analysis\n",
    "\n",
    "Analyze each climate variable independently."
   ]
  },
  {
   "cell_type": "code",
   "execution_count": null,
   "metadata": {},
   "outputs": [],
   "source": [
    "# TODO: Perform univariate analysis for each climate variable\n",
    "climate_variables = ['Global Temperature', 'CO2 Concentration', 'Sea Level Rise', 'Arctic Ice Area']\n",
    "\n",
    "# Loop through each climate variable\n",
    "for variable in climate_variables:\n",
    "    print(f\"\\nUnivariate Analysis for {variable}:\")\n",
    "    \n",
    "    # Descriptive statistics\n",
    "    print(\"\\nDescriptive Statistics:\")\n",
    "    print(df[variable].describe())\n",
    "    \n",
    "    # Additional statistics (range, median, std deviation)\n",
    "    print(f\"\\nAdditional Statistics for {variable}:\")\n",
    "    print(f\"Range: {df[variable].max() - df[variable].min()}\")\n",
    "    print(f\"Median: {df[variable].median()}\")\n",
    "    print(f\"Standard Deviation: {df[variable].std()}\")\n",
    "    \n",
    "# Include descriptive statistics and appropriate visualizations\n",
    "# Your code here\n",
    "plt.figure(figsize=(8, 6))\n",
    "    sns.histplot(df[variable], kde=True, color='blue')\n",
    "    plt.title(f'Distribution of {variable}')\n",
    "    plt.xlabel(variable)\n",
    "    plt.ylabel('Frequency')\n",
    "    plt.show()\n",
    "    \n",
    "    # Boxplot to check for outliers\n",
    "    plt.figure(figsize=(8, 6))\n",
    "    sns.boxplot(x=df[variable], color='orange')\n",
    "    plt.title(f'Boxplot of {variable}')\n",
    "    plt.xlabel(variable)\n",
    "    plt.show()\n",
    "    \n",
    "    # Time series plot (if a 'Year' column exists)\n",
    "    if 'Year' in df.columns:\n",
    "        plt.figure(figsize=(10, 6))\n",
    "        sns.lineplot(x='Year', y=variable, data=df, marker='o', color='green')\n",
    "        plt.title(f'Time Series of {variable}')\n",
    "        plt.xlabel('Year')\n",
    "        plt.ylabel(variable)\n",
    "        plt.grid(True)\n",
    "        plt.show()\n",
    "    \n",
    "    # Discussion of trends, outliers, and distributions\n",
    "    print(f\"\\nDiscussion for {variable}:\")\n",
    "    print(f\"- The distribution of {variable} is shown in the histogram and boxplot.\")\n",
    "    print(f\"- The time series plot (if available) shows the trend of {variable} over time.\")\n",
    "    print(f\"- Outliers, if any, can be identified from the boxplot.\")\n",
    "    print(f\"- The range, median, and standard deviation provide insights into the spread and central tendency of {variable}.\")\n",
    "    print(\"- Further analysis can be done to understand the impact of these trends on climate change.\")"
   ]
  },
  {
   "attachments": {},
   "cell_type": "markdown",
   "metadata": {},
   "source": [
    "## 3. Bivariate Analysis\n",
    "\n",
    "Explore relationships between pairs of climate variables."
   ]
  },
  {
   "cell_type": "code",
   "execution_count": null,
   "metadata": {},
   "outputs": [],
   "source": [
    "# TODO: Perform bivariate analysis\n",
    "# Include correlation analysis and appropriate visualizations\n",
    "# Plotting heatmap\n",
    "# Your code here\n",
    "correlation_matrix = df.corr()\n",
    "plt.figure(figsize=(10, 6))\n",
    "sns.heatmap(correlation_matrix, annot=True, cmap='coolwarm', linewidths=0.5)\n",
    "plt.title('Correlation Matrix of Climate Indicators')\n",
    "plt.show()"
   ]
  },
  {
   "cell_type": "code",
   "execution_count": null,
   "metadata": {},
   "outputs": [],
   "source": [
    "scatter_pairs = [\n",
    "    ('CO2 Concentration (ppm)', 'Global Average Temperature (°C)'),\n",
    "    ('CO2 Concentration (ppm)', 'Sea Level Rise (mm)'),\n",
    "    ('Global Average Temperature (°C)', 'Arctic Ice Area (million km²)')\n",
    "]\n",
    "\n",
    "# Plotting scatter plots\n",
    "plt.figure(figsize=(15, 5))\n",
    "\n",
    "for i, (x_var, y_var) in enumerate(scatter_pairs):\n",
    "    plt.subplot(1, 3, i + 1)\n",
    "    sns.scatterplot(data=df, x=x_var, y=y_var)\n",
    "    plt.title(f'{y_var} vs {x_var}')\n",
    "    plt.xlabel(x_var)\n",
    "    plt.ylabel(y_var)\n",
    "\n",
    "plt.tight_layout()\n",
    "plt.show()"
   ]
  },
  {
   "cell_type": "code",
   "execution_count": null,
   "metadata": {},
   "outputs": [],
   "source": [
    "# Plotting variables over time\n",
    "plt.figure(figsize=(12, 8))\n",
    "\n",
    "# Global Temperature over time\n",
    "plt.subplot(2, 2, 1)\n",
    "sns.lineplot(data=df, x='Year', y='Global Average Temperature (°C)')\n",
    "plt.title('Global Average Temperature Over Time')\n",
    "\n",
    "# CO2 Concentration over time\n",
    "plt.subplot(2, 2, 2)\n",
    "sns.lineplot(data=df, x='Year', y='CO2 Concentration (ppm)')\n",
    "plt.title('CO2 Concentration Over Time')\n",
    "\n",
    "# Sea Level Rise over time\n",
    "plt.subplot(2, 2, 3)\n",
    "sns.lineplot(data=df, x='Year', y='Sea Level Rise (mm)')\n",
    "plt.title('Sea Level Rise Over Time')\n",
    "\n",
    "# Arctic Ice Area over time\n",
    "plt.subplot(2, 2, 4)\n",
    "sns.lineplot(data=df, x='Year', y='Arctic Ice Area (million km²)')\n",
    "plt.title('Arctic Ice Area Over Time')\n",
    "\n",
    "plt.tight_layout()\n",
    "plt.show()"
   ]
  },
  {
   "cell_type": "code",
   "execution_count": null,
   "metadata": {},
   "outputs": [],
   "source": [
    "selected_vars = [\n",
    "    'Global Average Temperature (°C)',\n",
    "    'CO2 Concentration (ppm)',\n",
    "    'Sea Level Rise (mm)',\n",
    "    'Arctic Ice Area (million km²)'\n",
    "]\n",
    "\n",
    "sns.pairplot(df[selected_vars], diag_kind='kde')\n",
    "plt.suptitle('Pairwise Scatter Plots of Climate Variables', y=1.02)\n",
    "plt.show()"
   ]
  },
  {
   "attachments": {},
   "cell_type": "markdown",
   "metadata": {},
   "source": [
    "## 4. Multivariate Analysis\n",
    "\n",
    "Investigate relationships among three or more variables."
   ]
  },
  {
   "cell_type": "code",
   "execution_count": null,
   "metadata": {},
   "outputs": [],
   "source": [
    "# TODO: Perform multivariate analysis\n",
    "# Create advanced visualizations showing multiple variables\n",
    "# Your code here\n",
    "\n",
    "sns.pairplot(df_yearly[climate_vars])\n",
    "plt.suptitle('Pairplot of Climate Variables', y=1.02)\n",
    "plt.show()\n",
    "\n",
    "# 3D Scatter Plot for CO2, Global Average Temperature, and Sea Level Rise\n",
    "fig = plt.figure(figsize=(8,6))\n",
    "ax = fig.add_subplot(111, projection='3d')\n",
    "ax.scatter(df_yearly['CO2 Concentration (ppm)'], df_yearly['Global Average Temperature (°C)'], df_yearly['Sea Level Rise (mm)'], c='blue', marker='o')\n",
    "ax.set_xlabel('CO2 Concentration (ppm)')\n",
    "ax.set_ylabel('Global Average Temperature (°C)')\n",
    "ax.set_zlabel('Sea Level Rise (mm)')\n",
    "plt.title('3D Scatter Plot of CO2, Temperature, and Sea Level Rise')\n",
    "plt.show()\n",
    "\n",
    "# PCA for dimensionality reduction of climate variables\n",
    "pca = PCA(n_components=2)\n",
    "pca_result = pca.fit_transform(df_yearly[climate_vars])\n",
    "plt.figure(figsize=(6,4))\n",
    "sns.scatterplot(x=pca_result[:,0], y=pca_result[:,1], hue=df_yearly['Year'], palette='viridis')\n",
    "plt.title('PCA of Climate Variables')\n",
    "plt.xlabel('Principal Component 1')\n",
    "plt.ylabel('Principal Component 2')\n",
    "plt.show()"
   ]
  },
  {
   "attachments": {},
   "cell_type": "markdown",
   "metadata": {},
   "source": [
    "## 5. Conclusions and Insights\n",
    "\n",
    "Summarize your findings and discuss their implications."
   ]
  },
  {
   "attachments": {},
   "cell_type": "markdown",
   "metadata": {},
   "source": [
    "# TODO: Write your conclusions here"
   ]
  }
 ],
 "metadata": {
  "kernelspec": {
   "display_name": "Python 3",
   "language": "python",
   "name": "python3"
  },
  "language_info": {
   "codemirror_mode": {
    "name": "ipython",
    "version": 3
   },
   "file_extension": ".py",
   "mimetype": "text/x-python",
   "name": "python",
   "nbconvert_exporter": "python",
   "pygments_lexer": "ipython3",
   "version": "3.12.7"
  }
 },
 "nbformat": 4,
 "nbformat_minor": 4
}
