{
 "cells": [
  {
   "attachments": {},
   "cell_type": "markdown",
   "metadata": {},
   "source": [
    "# Climate Data Exploratory Data Analysis\n",
    "\n",
    "## Introduction\n",
    "This notebook contains an exploratory data analysis of climate data from 1900 to 2023. The dataset includes global temperatures, CO2 concentration, sea level rise, and Arctic ice area.\n",
    "\n",
    "Your task is to perform a comprehensive EDA following the requirements in the README.md file."
   ]
  },
  {
   "cell_type": "code",
   "execution_count": null,
   "metadata": {},
   "outputs": [],
   "source": [
    "# Import required libraries\n",
    "import pandas as pd\n",
    "import numpy as np\n",
    "import matplotlib.pyplot as plt\n",
    "import seaborn as sns\n",
    "\n",
    "# Set plot styling\n",
    "plt.style.use('seaborn-whitegrid')\n",
    "sns.set_palette('viridis')\n",
    "%matplotlib inline"
   ]
  },
  {
   "attachments": {},
   "cell_type": "markdown",
   "metadata": {},
   "source": [
    "## 1. Data Preparation\n",
    "\n",
    "Load the climate data and perform necessary cleaning and aggregation."
   ]
  },
  {
   "cell_type": "code",
   "execution_count": null,
   "metadata": {},
   "outputs": [],
   "source": [
    "# Load the dataset\n",
    "df = pd.read_csv('data/Climate_Change_Indicators.csv')# Place the correct path to the file you are reading here (Make sure to load using the relative path)\n",
    "\n",
    "# Display the first few rows of the dataset\n",
    "df.head()"
   ]
  },
  {
   "cell_type": "code",
   "execution_count": null,
   "metadata": {},
   "outputs": [],
   "source": [
    "# Check for missing values and basic information about the dataset\n",
    "print(\"Dataset Information:\")\n",
    "print(df.info())\n",
    "print(\"\\nMissing Values:\")\n",
    "print(df.isnull().sum())"
   ]
  },
  {
   "cell_type": "code",
   "execution_count": null,
   "metadata": {},
   "outputs": [],
   "source": [
    "# TODO: Aggregate data by year to create a 124-year time series\n",
    "# Your code here"
   ]
  },
  {
   "attachments": {},
   "cell_type": "markdown",
   "metadata": {},
   "source": [
    "## 2. Univariate Analysis\n",
    "\n",
    "Analyze each climate variable independently."
   ]
  },
  {
   "cell_type": "code",
   "execution_count": null,
   "metadata": {},
   "outputs": [],
   "source": [
    "# TODO: Perform univariate analysis for each climate variable\n",
    "# Include descriptive statistics and appropriate visualizations\n",
    "# Your code here"
   ]
  },
  {
   "attachments": {},
   "cell_type": "markdown",
   "metadata": {},
   "source": [
    "## 3. Bivariate Analysis\n",
    "\n",
    "Explore relationships between pairs of climate variables."
   ]
  },
  {
   "cell_type": "code",
   "execution_count": null,
   "metadata": {},
   "outputs": [],
   "source": [
    "# TODO: Perform bivariate analysis\n",
    "# Include correlation analysis and appropriate visualizations\n",
    "# Plotting heatmap\n",
    "# Your code here\n",
    "correlation_matrix = df.corr()\n",
    "plt.figure(figsize=(10, 6))\n",
    "sns.heatmap(correlation_matrix, annot=True, cmap='coolwarm', linewidths=0.5)\n",
    "plt.title('Correlation Matrix of Climate Indicators')\n",
    "plt.show()"
   ]
  },
  {
   "cell_type": "code",
   "execution_count": null,
   "metadata": {},
   "outputs": [],
   "source": [
    "scatter_pairs = [\n",
    "    ('CO2 Concentration (ppm)', 'Global Average Temperature (°C)'),\n",
    "    ('CO2 Concentration (ppm)', 'Sea Level Rise (mm)'),\n",
    "    ('Global Average Temperature (°C)', 'Arctic Ice Area (million km²)')\n",
    "]\n",
    "\n",
    "# Plotting scatter plots\n",
    "plt.figure(figsize=(15, 5))\n",
    "\n",
    "for i, (x_var, y_var) in enumerate(scatter_pairs):\n",
    "    plt.subplot(1, 3, i + 1)\n",
    "    sns.scatterplot(data=df, x=x_var, y=y_var)\n",
    "    plt.title(f'{y_var} vs {x_var}')\n",
    "    plt.xlabel(x_var)\n",
    "    plt.ylabel(y_var)\n",
    "\n",
    "plt.tight_layout()\n",
    "plt.show()"
   ]
  },
  {
   "cell_type": "code",
   "execution_count": null,
   "metadata": {},
   "outputs": [],
   "source": [
    "# Plotting variables over time\n",
    "plt.figure(figsize=(12, 8))\n",
    "\n",
    "# Global Temperature over time\n",
    "plt.subplot(2, 2, 1)\n",
    "sns.lineplot(data=df, x='Year', y='Global Average Temperature (°C)')\n",
    "plt.title('Global Average Temperature Over Time')\n",
    "\n",
    "# CO2 Concentration over time\n",
    "plt.subplot(2, 2, 2)\n",
    "sns.lineplot(data=df, x='Year', y='CO2 Concentration (ppm)')\n",
    "plt.title('CO2 Concentration Over Time')\n",
    "\n",
    "# Sea Level Rise over time\n",
    "plt.subplot(2, 2, 3)\n",
    "sns.lineplot(data=df, x='Year', y='Sea Level Rise (mm)')\n",
    "plt.title('Sea Level Rise Over Time')\n",
    "\n",
    "# Arctic Ice Area over time\n",
    "plt.subplot(2, 2, 4)\n",
    "sns.lineplot(data=df, x='Year', y='Arctic Ice Area (million km²)')\n",
    "plt.title('Arctic Ice Area Over Time')\n",
    "\n",
    "plt.tight_layout()\n",
    "plt.show()"
   ]
  },
  {
   "cell_type": "code",
   "execution_count": null,
   "metadata": {},
   "outputs": [],
   "source": [
    "selected_vars = [\n",
    "    'Global Average Temperature (°C)',\n",
    "    'CO2 Concentration (ppm)',\n",
    "    'Sea Level Rise (mm)',\n",
    "    'Arctic Ice Area (million km²)'\n",
    "]\n",
    "\n",
    "sns.pairplot(df[selected_vars], diag_kind='kde')\n",
    "plt.suptitle('Pairwise Scatter Plots of Climate Variables', y=1.02)\n",
    "plt.show()"
   ]
  },
  {
   "attachments": {},
   "cell_type": "markdown",
   "metadata": {},
   "source": [
    "## 4. Multivariate Analysis\n",
    "\n",
    "Investigate relationships among three or more variables."
   ]
  },
  {
   "cell_type": "code",
   "execution_count": null,
   "metadata": {},
   "outputs": [],
   "source": [
    "# TODO: Perform multivariate analysis\n",
    "# Create advanced visualizations showing multiple variables\n",
    "# Your code here"
   ]
  },
  {
   "attachments": {},
   "cell_type": "markdown",
   "metadata": {},
   "source": [
    "## 5. Conclusions and Insights\n",
    "\n",
    "Summarize your findings and discuss their implications."
   ]
  },
  {
   "attachments": {},
   "cell_type": "markdown",
   "metadata": {},
   "source": [
    "# TODO: Write your conclusions here"
   ]
  }
 ],
 "metadata": {
  "kernelspec": {
   "display_name": "Python 3",
   "language": "python",
   "name": "python3"
  },
  "language_info": {
   "codemirror_mode": {
    "name": "ipython",
    "version": 3
   },
   "file_extension": ".py",
   "mimetype": "text/x-python",
   "name": "python",
   "nbconvert_exporter": "python",
   "pygments_lexer": "ipython3",
   "version": "3.12.7"
  }
 },
 "nbformat": 4,
 "nbformat_minor": 4
}
