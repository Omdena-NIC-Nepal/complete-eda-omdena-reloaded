{
 "cells": [
  {
   "attachments": {},
   "cell_type": "markdown",
   "metadata": {},
   "source": [
    "# Climate Data Exploratory Data Analysis\n",
    "\n",
    "## Introduction\n",
    "This notebook contains an exploratory data analysis of climate data from 1900 to 2023. The dataset includes global temperatures, CO2 concentration, sea level rise, and Arctic ice area.\n",
    "\n",
    "Your task is to perform a comprehensive EDA following the requirements in the README.md file."
   ]
  },
  {
   "cell_type": "code",
   "execution_count": null,
   "metadata": {},
   "outputs": [],
   "source": [
    "# Import required libraries\n",
    "import pandas as pd\n",
    "import numpy as np\n",
    "import matplotlib.pyplot as plt\n",
    "import seaborn as sns\n",
    "\n",
    "# Set plot styling\n",
    "plt.style.use('seaborn-whitegrid')\n",
    "sns.set_palette('viridis')\n",
    "%matplotlib inline"
   ]
  },
  {
   "attachments": {},
   "cell_type": "markdown",
   "metadata": {},
   "source": [
    "## 1. Data Preparation\n",
    "\n",
    "Load the climate data and perform necessary cleaning and aggregation."
   ]
  },
  {
   "cell_type": "code",
   "execution_count": null,
   "metadata": {},
   "outputs": [],
   "source": [
    "# Load the dataset\n",
    "#df = pd.read_csv('climate_data.csv') # Place the correct path to the file you are reading here (Make sure to load using the relative path)\n",
    "\n",
    "# Display the first few rows of the dataset\n",
    "#df.head()\n",
    "df = pd.read_csv('data/Climate_Change_Indicators.csv')\n",
    "print(df.head())"
   ]
  },
  {
   "cell_type": "code",
   "execution_count": null,
   "metadata": {},
   "outputs": [],
   "source": [
    "# Check for missing values and basic information about the dataset\n",
    "print(\"Dataset Information:\")\n",
    "print(df.info())\n",
    "print(\"\\nMissing Values:\")\n",
    "print(df.isnull().sum())\n"
   ]
  },
  {
   "cell_type": "code",
   "execution_count": null,
   "metadata": {},
   "outputs": [],
   "source": [
    "# TODO: Aggregate data by year to create a 124-year time series\n",
    "# Your code here\n",
    "\n",
    "df['Date'] = pd.to_datetime(df['Date'])\n",
    "\n",
    "# Extract the year from the 'Date' column\n",
    "df['Year'] = df['Date'].dt.year\n",
    "\n",
    "# Group by 'Year' and aggregate the data (e.g., using mean)\n",
    "yearly_aggregated_data = df.groupby('Year').mean().reset_index()\n",
    "\n",
    "# Display the aggregated data\n",
    "print(\"\\nYearly Aggregated Data:\")\n",
    "print(yearly_aggregated_data)"
   ]
  },
  {
   "attachments": {},
   "cell_type": "markdown",
   "metadata": {},
   "source": [
    "## 2. Univariate Analysis\n",
    "\n",
    "Analyze each climate variable independently."
   ]
  },
  {
   "cell_type": "code",
   "execution_count": null,
   "metadata": {},
   "outputs": [],
   "source": [
    "# TODO: Perform univariate analysis for each climate variable\n",
    "climate_variables = ['Global Temperature', 'CO2 Concentration', 'Sea Level Rise', 'Arctic Ice Area']\n",
    "\n",
    "# Loop through each climate variable\n",
    "for variable in climate_variables:\n",
    "    print(f\"\\nUnivariate Analysis for {variable}:\")\n",
    "    \n",
    "    # Descriptive statistics\n",
    "    print(\"\\nDescriptive Statistics:\")\n",
    "    print(df[variable].describe())\n",
    "    \n",
    "    # Additional statistics (range, median, std deviation)\n",
    "    print(f\"\\nAdditional Statistics for {variable}:\")\n",
    "    print(f\"Range: {df[variable].max() - df[variable].min()}\")\n",
    "    print(f\"Median: {df[variable].median()}\")\n",
    "    print(f\"Standard Deviation: {df[variable].std()}\")\n",
    "    \n",
    "# Include descriptive statistics and appropriate visualizations\n",
    "# Your code here\n",
    "plt.figure(figsize=(8, 6))\n",
    "    sns.histplot(df[variable], kde=True, color='blue')\n",
    "    plt.title(f'Distribution of {variable}')\n",
    "    plt.xlabel(variable)\n",
    "    plt.ylabel('Frequency')\n",
    "    plt.show()\n",
    "    \n",
    "    # Boxplot to check for outliers\n",
    "    plt.figure(figsize=(8, 6))\n",
    "    sns.boxplot(x=df[variable], color='orange')\n",
    "    plt.title(f'Boxplot of {variable}')\n",
    "    plt.xlabel(variable)\n",
    "    plt.show()\n",
    "    \n",
    "    # Time series plot (if a 'Year' column exists)\n",
    "    if 'Year' in df.columns:\n",
    "        plt.figure(figsize=(10, 6))\n",
    "        sns.lineplot(x='Year', y=variable, data=df, marker='o', color='green')\n",
    "        plt.title(f'Time Series of {variable}')\n",
    "        plt.xlabel('Year')\n",
    "        plt.ylabel(variable)\n",
    "        plt.grid(True)\n",
    "        plt.show()\n",
    "    \n",
    "    # Discussion of trends, outliers, and distributions\n",
    "    print(f\"\\nDiscussion for {variable}:\")\n",
    "    print(f\"- The distribution of {variable} is shown in the histogram and boxplot.\")\n",
    "    print(f\"- The time series plot (if available) shows the trend of {variable} over time.\")\n",
    "    print(f\"- Outliers, if any, can be identified from the boxplot.\")\n",
    "    print(f\"- The range, median, and standard deviation provide insights into the spread and central tendency of {variable}.\")\n",
    "    print(\"- Further analysis can be done to understand the impact of these trends on climate change.\")"
   ]
  },
  {
   "attachments": {},
   "cell_type": "markdown",
   "metadata": {},
   "source": [
    "## 3. Bivariate Analysis\n",
    "\n",
    "Explore relationships between pairs of climate variables."
   ]
  },
  {
   "cell_type": "code",
   "execution_count": null,
   "metadata": {},
   "outputs": [],
   "source": [
    "# TODO: Perform bivariate analysis\n",
    "# Include correlation analysis and appropriate visualizations\n",
    "# Plotting heatmap\n",
    "# Your code here\n",
    "correlation_matrix = df.corr()\n",
    "plt.figure(figsize=(10, 6))\n",
    "sns.heatmap(correlation_matrix, annot=True, cmap='coolwarm', linewidths=0.5)\n",
    "plt.title('Correlation Matrix of Climate Indicators')\n",
    "plt.show()"
   ]
  },
  {
   "cell_type": "code",
   "execution_count": null,
   "metadata": {},
   "outputs": [],
   "source": [
    "scatter_pairs = [\n",
    "    ('CO2 Concentration (ppm)', 'Global Average Temperature (°C)'),\n",
    "    ('CO2 Concentration (ppm)', 'Sea Level Rise (mm)'),\n",
    "    ('Global Average Temperature (°C)', 'Arctic Ice Area (million km²)')\n",
    "]\n",
    "\n",
    "# Plotting scatter plots\n",
    "plt.figure(figsize=(15, 5))\n",
    "\n",
    "for i, (x_var, y_var) in enumerate(scatter_pairs):\n",
    "    plt.subplot(1, 3, i + 1)\n",
    "    sns.scatterplot(data=df, x=x_var, y=y_var)\n",
    "    plt.title(f'{y_var} vs {x_var}')\n",
    "    plt.xlabel(x_var)\n",
    "    plt.ylabel(y_var)\n",
    "\n",
    "plt.tight_layout()\n",
    "plt.show()"
   ]
  },
  {
   "cell_type": "code",
   "execution_count": null,
   "metadata": {},
   "outputs": [],
   "source": [
    "# Plotting variables over time\n",
    "plt.figure(figsize=(12, 8))\n",
    "\n",
    "# Global Temperature over time\n",
    "plt.subplot(2, 2, 1)\n",
    "sns.lineplot(data=df, x='Year', y='Global Average Temperature (°C)')\n",
    "plt.title('Global Average Temperature Over Time')\n",
    "\n",
    "# CO2 Concentration over time\n",
    "plt.subplot(2, 2, 2)\n",
    "sns.lineplot(data=df, x='Year', y='CO2 Concentration (ppm)')\n",
    "plt.title('CO2 Concentration Over Time')\n",
    "\n",
    "# Sea Level Rise over time\n",
    "plt.subplot(2, 2, 3)\n",
    "sns.lineplot(data=df, x='Year', y='Sea Level Rise (mm)')\n",
    "plt.title('Sea Level Rise Over Time')\n",
    "\n",
    "# Arctic Ice Area over time\n",
    "plt.subplot(2, 2, 4)\n",
    "sns.lineplot(data=df, x='Year', y='Arctic Ice Area (million km²)')\n",
    "plt.title('Arctic Ice Area Over Time')\n",
    "\n",
    "plt.tight_layout()\n",
    "plt.show()"
   ]
  },
  {
   "cell_type": "code",
   "execution_count": null,
   "metadata": {},
   "outputs": [],
   "source": [
    "selected_vars = [\n",
    "    'Global Average Temperature (°C)',\n",
    "    'CO2 Concentration (ppm)',\n",
    "    'Sea Level Rise (mm)',\n",
    "    'Arctic Ice Area (million km²)'\n",
    "]\n",
    "\n",
    "sns.pairplot(df[selected_vars], diag_kind='kde')\n",
    "plt.suptitle('Pairwise Scatter Plots of Climate Variables', y=1.02)\n",
    "plt.show()"
   ]
  },
  {
   "attachments": {},
   "cell_type": "markdown",
   "metadata": {},
   "source": [
    "## 4. Multivariate Analysis\n",
    "\n",
    "Investigate relationships among three or more variables."
   ]
  },
  {
   "cell_type": "code",
   "execution_count": null,
   "metadata": {},
   "outputs": [],
   "source": [
    "# TODO: Perform multivariate analysis\n",
    "# Create advanced visualizations showing multiple variables\n",
    "# Your code here"
   ]
  },
  {
   "attachments": {},
   "cell_type": "markdown",
   "metadata": {},
   "source": [
    "## 5. Conclusions and Insights\n",
    "\n",
    "Summarize your findings and discuss their implications."
   ]
  },
  {
   "attachments": {},
   "cell_type": "markdown",
   "metadata": {},
   "source": [
    "# TODO: Write your conclusions here"
   ]
  }
 ],
 "metadata": {
  "kernelspec": {
   "display_name": "Python 3",
   "language": "python",
   "name": "python3"
  },
  "language_info": {
   "codemirror_mode": {
    "name": "ipython",
    "version": 3
   },
   "file_extension": ".py",
   "mimetype": "text/x-python",
   "name": "python",
   "nbconvert_exporter": "python",
   "pygments_lexer": "ipython3",
   "version": "3.12.7"
  }
 },
 "nbformat": 4,
 "nbformat_minor": 4
}
